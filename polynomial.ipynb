{
  "nbformat": 4,
  "nbformat_minor": 0,
  "metadata": {
    "colab": {
      "name": "polynomial.ipynb",
      "provenance": [],
      "collapsed_sections": []
    },
    "kernelspec": {
      "name": "python3",
      "display_name": "Python 3"
    },
    "language_info": {
      "name": "python"
    }
  },
  "cells": [
    {
      "cell_type": "markdown",
      "metadata": {
        "id": "7dxVgBVYuxgU"
      },
      "source": [
        "## Import the packages we need\n",
        "(and define a few functions that will be useful later on!)"
      ]
    },
    {
      "cell_type": "code",
      "metadata": {
        "id": "x4yG6kluuv7e"
      },
      "source": [
        "import numpy as np\n",
        "import matplotlib.pyplot as plt\n",
        "import seaborn as sns\n",
        "\n",
        "def plot_points(points, ax):\n",
        "  \"\"\"\n",
        "    utility function, do not modify\n",
        "    plot the given points on the given axis\n",
        "  \"\"\"\n",
        "  x = [point[0] for point in points]\n",
        "  y = [point[1] for point in points]\n",
        "  h = [i for i in range(len(points))]\n",
        "  sns.scatterplot(x=x, y=y, ax=ax, hue=h, s=200, palette='Spectral')\n",
        "\n",
        "def plot_polynomial(f, points, ax):\n",
        "  \"\"\"\n",
        "    utility function, do not modify\n",
        "    plot the polynomial on the points given\n",
        "  \"\"\"\n",
        "  x = [point[0] for point in points]\n",
        "  x = np.arange(min(x), max(x), .001)\n",
        "  y = [f(z) for z in x]\n",
        "  sns.lineplot(x=x, y=y, ax=ax, color='black')\n",
        "\n",
        "def check_points(points):\n",
        "  \"\"\"\n",
        "    utility function, do not modify\n",
        "    ensure all x values are unique\n",
        "  \"\"\"\n",
        "  xes = [point[0] for point in points]\n",
        "  s = set(xes)\n",
        "  assert len(s) == len(xes)\n",
        "\n",
        "def sort_points(points):\n",
        "  \"\"\"\n",
        "    you don't really need to do this\n",
        "    i just like to preserve the nice rainbow effect :-)\n",
        "  \"\"\"\n",
        "  x = np.array([point[0] for point in points])\n",
        "  y = np.array([point[1] for point in points])\n",
        "  x_ = np.argsort(x)\n",
        "\n",
        "  x = x[x_]\n",
        "  y = y[x_]\n",
        "\n",
        "  return [(x[i], y[i]) for i in range(len(x))]\n"
      ],
      "execution_count": 127,
      "outputs": []
    },
    {
      "cell_type": "markdown",
      "metadata": {
        "id": "SLu3rfDtrFNM"
      },
      "source": [
        "## Pick any number of points you want to connect\n",
        "Put them in desired_points.\n",
        "The format should be (x, y).\n",
        "Be sure that all x values are unique. (the code will check that they are.)"
      ]
    },
    {
      "cell_type": "code",
      "metadata": {
        "colab": {
          "base_uri": "https://localhost:8080/",
          "height": 536
        },
        "id": "548NOhwtphaO",
        "outputId": "6cea7f24-d4f6-4a14-d13e-4c917e6a00de"
      },
      "source": [
        "desired_points = [\n",
        "          (0, 0),\n",
        "          (1, 1),\n",
        "          (2, 9),\n",
        "          (3, 5),\n",
        "]\n",
        "desired_points = sort_points(desired_points)\n",
        "check_points(desired_points)\n",
        "fig, axs = plt.subplots(1, figsize=(16, 9))\n",
        "plot_points(desired_points, axs)"
      ],
      "execution_count": 128,
      "outputs": [
        {
          "output_type": "display_data",
          "data": {
            "image/png": "[encoded data removed]",
            "text/plain": [
              "<Figure size 1152x648 with 1 Axes>"
            ]
          },
          "metadata": {
            "needs_background": "light"
          }
        }
      ]
    },
    {
      "cell_type": "markdown",
      "metadata": {
        "id": "rObHor67rTn9"
      },
      "source": [
        "## Solve for the polynomial that connects them all\n",
        "\n",
        "What is our system of equations?\n",
        "We know our polynomial takes the form $f(x) = c_0 + c_1x + c_2x^2 + ...$\n",
        "\n",
        "We know the polynomial at a few points. e.g. suppose we know $f(3) = 5$. Then we know:\n",
        "\n",
        "$$c_0 + c_1 \\times 3 + c_2 \\times 3^2 + c_3 \\times 3^3 + ... = f(3) = 5$$\n",
        "\n",
        "Below, we'll look at the mathematical representation. It might look a little dense, but the system of equations it represents is nothing more than the equation we are looking at above, repeated for every point we know our polynomial at!\n",
        "\n",
        "If we know a whole lot of other points $(x_i, f(x_i))$, we have an equation of the form\n",
        "\n",
        "$$Ac = b$$\n",
        "\n",
        "where $$c = (c_0, c_1, c_2, ...)$$\n",
        "\n",
        "$$b = (f(x_0), f(x_1), f(x_2), ...)$$\n",
        "\n",
        "and $$A_{ij} = x_i^{j - 1}$$\n",
        "\n",
        "In the code below, we are going to set this up for the polynomial that connects all of the desired points above."
      ]
    },
    {
      "cell_type": "code",
      "metadata": {
        "colab": {
          "base_uri": "https://localhost:8080/"
        },
        "id": "pQQdQca_qu9a",
        "outputId": "753b7943-7613-43c9-a6b4-38071e7168e7"
      },
      "source": [
        "degree = len(desired_points) - 1\n",
        "\n",
        "# Set up the objects we are going to solve\n",
        "A = np.empty((degree + 1, degree + 1))\n",
        "b = np.empty((degree + 1, ))\n",
        "\n",
        "# set up the system of equations:\n",
        "for i in range(len(desired_points)):\n",
        "\n",
        "  x, y = desired_points[i]\n",
        "  b[i] = y\n",
        "  for j in range(len(desired_points)):\n",
        "    A[i, j] = x ** j\n",
        "\n",
        "# solve the system\n",
        "coefficients = np.linalg.inv(A) @ b\n",
        "coefficients # read from L to R"
      ],
      "execution_count": 129,
      "outputs": [
        {
          "output_type": "execute_result",
          "data": {
            "text/plain": [
              "array([ 0.        , -8.83333333, 13.        , -3.16666667])"
            ]
          },
          "metadata": {},
          "execution_count": 129
        }
      ]
    },
    {
      "cell_type": "markdown",
      "metadata": {
        "id": "D7S-VCUMud_X"
      },
      "source": [
        "## Here we turn our coefficient into a polynomial function"
      ]
    },
    {
      "cell_type": "code",
      "metadata": {
        "id": "fsAe0VdCqE5D"
      },
      "source": [
        "def create_polynomial(coefficients):\n",
        "  \"\"\"\n",
        "    create a polynomial function given a set of coefficients.\n",
        "    note that this is a function that returns a function!\n",
        "\n",
        "  \"\"\"\n",
        "\n",
        "  def f(x):\n",
        "    \"\"\"\n",
        "      function that returns the value of the polynomial.\n",
        "      we are creating this function within another function! kind of cool\n",
        "\n",
        "    \"\"\"\n",
        "    # z is a variable that will mean a few different things\n",
        "    # as the computation progresses.\n",
        "    # what it means at any given time is shown in a comment to the side.\n",
        "\n",
        "    z = np.ones(len(coefficients)) * x    # z = (x, x, x, x, x, ...\n",
        "    z = z ** np.arange(len(coefficients)) # z = (x^0, x^1, x^2, ...\n",
        "    z = z @ coefficients                  # z = c0 x^0 + c1 x^1 + c2 x^2 + ...\n",
        "\n",
        "    # at this point, z is a single number that is the value of our polynomial\n",
        "    # evaluated at x. now we return z.\n",
        "    return z \n",
        "\n",
        "  # f(x) is our polynomial that we can now return.\n",
        "  return f\n",
        "\n",
        "f = create_polynomial(coefficients)"
      ],
      "execution_count": 130,
      "outputs": []
    },
    {
      "cell_type": "code",
      "metadata": {
        "colab": {
          "base_uri": "https://localhost:8080/",
          "height": 536
        },
        "id": "k9CxzFxjsaUR",
        "outputId": "a9b53881-c7d1-475f-d6f5-3f6d59c82f25"
      },
      "source": [
        "fig, axs = plt.subplots(1, figsize=(16, 9))\n",
        "\n",
        "plot_points(desired_points, axs)\n",
        "plot_polynomial(f, desired_points, axs)"
      ],
      "execution_count": 131,
      "outputs": [
        {
          "output_type": "display_data",
          "data": {
            "image/png": "[encoded data removed]",
            "text/plain": [
              "<Figure size 1152x648 with 1 Axes>"
            ]
          },
          "metadata": {
            "needs_background": "light"
          }
        }
      ]
    }
  ]
}