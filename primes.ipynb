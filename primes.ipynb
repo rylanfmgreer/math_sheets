{
 "cells": [
  {
   "cell_type": "markdown",
   "id": "eafa2f27-9630-429b-9692-0db9e0e769e9",
   "metadata": {
    "id": "eafa2f27-9630-429b-9692-0db9e0e769e9"
   },
   "source": [
    "## What is a _factor_?\n",
    "\n",
    "Formally, two whole numbers $m$ and $n$ are factors of some third whole number $k$ if $mn = k$.\n",
    "\n",
    "For example, $2$ and $13$ are factors of $26$ because $2 \\times 13 = 26$.\n",
    "\n",
    "$5$ is not a factor of $72$ because, try as we might, we can't find another whole number $m$ that makes $5m = 72.$\n",
    "\n",
    "Notice that every nuymber is a factor of itself: $72$ is a factor of $72$ because $1 \\times 72 = 72$\n",
    "\n",
    "## What is a prime number?\n",
    "A prime number is a number that has exactly two distinct factors -- $1$ and itself.\n",
    "\n",
    "For example, $3$ is prime. There are no other factors of $3$ besides $1$ and $3$.\n",
    "\n",
    "## What are the prime numbers?\n",
    "\n",
    "The prime numbers include $2, 3, 5, 7, 11, 13, \\dots$.\n",
    "\n",
    "Note that $1$ is not prime -- we said there need to be exactly two distinct factors, but $1 = 1 \\times 1$ only. $1$ has only one factor! We specifically said \"two distinct factors\" to exclude $1$.\n",
    "\n",
    "## Why are prime numbers important?\n",
    "\n",
    "There are a lot of applications of prime numbers. We'll discuss some in this sheet, but first, we need to talk about how to find them.\n"
   ]
  },
  {
   "cell_type": "markdown",
   "id": "08b15a07-2b1f-44e0-9182-06e2e8c54995",
   "metadata": {
    "id": "08b15a07-2b1f-44e0-9182-06e2e8c54995"
   },
   "source": [
    "## How can we find them?\n",
    "\n",
    "There are two main approaches. First, we can make a way of checking whether any number is prime. Then, we can talk about an explicit. way of constructing a big list of prime numbers.\n",
    "\n",
    "There is no \"biggest\" prime number. \n",
    "\n",
    "First, let's talk about how we can tell if a number $n$ is prime.\n",
    "\n",
    "The first way is to check every number up to $n$ to see if it's a factor of $n$. If none of them are, it's prime."
   ]
  },
  {
   "cell_type": "code",
   "execution_count": 4,
   "id": "6452b124-6639-41e7-8ed0-2e71702556da",
   "metadata": {
    "colab": {
     "base_uri": "https://localhost:8080/"
    },
    "id": "6452b124-6639-41e7-8ed0-2e71702556da",
    "outputId": "fd2a048b-f912-4573-a92f-92b0fa256065"
   },
   "outputs": [
    {
     "name": "stdout",
     "output_type": "stream",
     "text": [
      "2 is prime? True\n",
      "3 is prime? True\n",
      "4 is prime? False\n",
      "5 is prime? True\n",
      "6 is prime? False\n",
      "7 is prime? True\n",
      "8 is prime? False\n",
      "9 is prime? False\n",
      "10 is prime? False\n",
      "11 is prime? True\n",
      "12 is prime? False\n",
      "13 is prime? True\n",
      "14 is prime? False\n",
      "15 is prime? False\n",
      "16 is prime? False\n",
      "17 is prime? True\n",
      "18 is prime? False\n",
      "19 is prime? True\n"
     ]
    }
   ],
   "source": [
    "def prime_check_1(n):\n",
    "    \n",
    "    # range goes from 2 to n - 1. We exclude 1, and we don't need to check that\n",
    "    # n is a factor; it always is!\n",
    "    \n",
    "    # % is the \"remainder operator\". If the remainder of two numbers n / m is zero, then n is divisible by m.\n",
    "    \n",
    "    for i in range(2, n):\n",
    "        if n % i == 0: \n",
    "            return False\n",
    "    return True\n",
    "\n",
    "for i in range(2, 20):\n",
    "    print(i, 'is prime?', prime_check_1(i))"
   ]
  },
  {
   "cell_type": "markdown",
   "id": "0eb14a3f-aed0-4456-bcba-9ad6483ee1a6",
   "metadata": {
    "id": "0eb14a3f-aed0-4456-bcba-9ad6483ee1a6"
   },
   "source": [
    "This is a bit inefficient though. We don't have to check every number up to $n$. We only have to check every number up to $\\sqrt{n}$. Why? Well, here's a proof:\n",
    "\n",
    "Suppose $n$ has a factor $k$ that's greater than $\\sqrt{n}$. There must be some other factor $m$ such that $mk = n$.. What happens if $m > \\sqrt{n}$\n",
    "$mk > \\sqrt{n}\\sqrt{n} = n$. So $mk > n$. But we said $mk = n$, so something's wrong! \n",
    "\n",
    "This is called a _proof by contradiction_. They are often unintuitive to understand at first, but when we assume something that leads to something incorrect, we know there's something wrong with our assumption.\n",
    "\n",
    "The more intuitive explanation is that if there is a factor greater than $\\sqrt{n}$, then the other factor is smaller than $\\sqrt{n}$, and we would already have found it with this algorithm!\n",
    "\n",
    "Let's implement it. It goes pretty much the same as the last algorith, we just stop checking numbers a little earlier."
   ]
  },
  {
   "cell_type": "code",
   "execution_count": 5,
   "id": "ec854c41-5aed-4e14-b9cd-755ed3728b84",
   "metadata": {
    "colab": {
     "base_uri": "https://localhost:8080/"
    },
    "id": "ec854c41-5aed-4e14-b9cd-755ed3728b84",
    "outputId": "35013994-e72d-4791-fc13-940162d5266c"
   },
   "outputs": [
    {
     "name": "stdout",
     "output_type": "stream",
     "text": [
      "2 is prime? True\n",
      "3 is prime? True\n",
      "4 is prime? False\n",
      "5 is prime? True\n",
      "6 is prime? False\n",
      "7 is prime? True\n",
      "8 is prime? False\n",
      "9 is prime? False\n",
      "10 is prime? False\n",
      "11 is prime? True\n",
      "12 is prime? False\n",
      "13 is prime? True\n",
      "14 is prime? False\n",
      "15 is prime? False\n",
      "16 is prime? False\n",
      "17 is prime? True\n",
      "18 is prime? False\n",
      "19 is prime? True\n"
     ]
    }
   ],
   "source": [
    "from math import floor, sqrt\n",
    "def prime_check_2(n):\n",
    "    \n",
    "    # range goes from 2 to n - 1. We exclude 1, and we don't need to check that\n",
    "    # n is a factor; it always is!\n",
    "    \n",
    "    # % is the \"remainder operator\". If the remainder of two numbers n / m is zero, then n is divisible by m.\n",
    "    \n",
    "    \n",
    "    max_num = sqrt(n)\n",
    "    max_num = floor(max_num + 1) # Numerical operations can be off in Python, so to be safe, we take\n",
    "                                 # the next largest integer. Theoretically, we only need up to sqrt(n).\n",
    "    for i in range(2, max_num):\n",
    "        if n % i == 0: \n",
    "            return False\n",
    "    return True\n",
    "\n",
    "for i in range(2, 20):\n",
    "    print(i, 'is prime?', prime_check_2(i))"
   ]
  },
  {
   "cell_type": "markdown",
   "id": "4cd41f5f-55dc-4082-82b7-c11b8c8bbea2",
   "metadata": {
    "id": "4cd41f5f-55dc-4082-82b7-c11b8c8bbea2"
   },
   "source": [
    "i callThese are fine for checking if any number is prime, but what if we want a list of all prime numbers up to some number $N$? There is an algorithm that is much faster (from a computation perspective.)\n",
    "\n",
    "It is called the _Sieve of Erasothenes_. Below is one implementation:\n",
    "\n",
    "\n",
    "1. Get a list of all numbers up to N (excluding 1.) eg: $2, 3, 4, 5, 6, 7, 8, 9, 10$ \n",
    "2. Start at $2$ and \"cross out\" 2 every second number after 2. eg: $X, 3, X, 5, X, 7, X, 9, X$, primes $= 2$\n",
    "3. The next number after $2$ must be prime. It's $3$. Cross out every third number after $3$. eg: $X, X, X, 5, X, 7, X, X, X$, primes= $2, 3$\n",
    "4. The next number is $5$. Cross it out and every fifth number after. eg: $X, X, X, X, X, 7, X, X, X$, primes= $2, 3, 5$. Note that the only number we could have crossed out is 10, and that's been crossed out.\n",
    "5. The pattern should be clear at this point. Similarly, we note $7$ is prime, and there are no other multiples of $7$ to cross out. We have: $X, X, X, X, X, X, X, X, X$, primes= $2, 3, 5, 7$.\n",
    "6. Since all numbers are crossed out, we are done, and the primes are $2, 3, 5, 7$.\n",
    "\n",
    "There are faster ways, but this one is easy to understand and implement in code.\n",
    "\n",
    "Below is an implementation in Python."
   ]
  },
  {
   "cell_type": "code",
   "execution_count": 6,
   "id": "0b2f843a-8e72-4c40-9092-25da1e629b63",
   "metadata": {
    "colab": {
     "base_uri": "https://localhost:8080/"
    },
    "id": "0b2f843a-8e72-4c40-9092-25da1e629b63",
    "outputId": "2e00f9ea-a982-4bd8-99a7-60b51d1c9f9c"
   },
   "outputs": [
    {
     "data": {
      "text/plain": [
       "[2, 3, 5, 7, 11, 13, 17, 19]"
      ]
     },
     "execution_count": 6,
     "metadata": {},
     "output_type": "execute_result"
    }
   ],
   "source": [
    "def sieve_of_erasothenes(N):\n",
    "    \n",
    "    # There are more efficient ways of programming this, but I believe this one\n",
    "    # is readable and easy to understand.\n",
    "    \n",
    "    # For our purposes, we can't \"cross out\" a number in Python, but we can set it to zero.\n",
    "    \n",
    "    # This list contains 0 and 1, but that's just to make indexing easier.\n",
    "    list_of_nums = [i for i in range(N + 1)]\n",
    "    \n",
    "    # We immediately cross out 0 and 1.\n",
    "    \n",
    "    list_of_nums[0] = 0\n",
    "    list_of_nums[1] = 0\n",
    "    \n",
    "    # We will accumulate a list of prime numbers that we want to return here.\n",
    "    primes = []\n",
    "    \n",
    "    # sum(list_of_nums) is greater than zero if any number is not crossed out.\n",
    "    while(sum(list_of_nums)) > 0:\n",
    "        \n",
    "        \n",
    "        # the next prime is the first nonzero element.\n",
    "        next_prime = -1\n",
    "        for obj in list_of_nums:\n",
    "            if obj != 0:\n",
    "                next_prime = obj\n",
    "                break # exit the loop, we have found the next prime.\n",
    "                \n",
    "        # if we have found a next prime number in our list:\n",
    "        if next_prime != -1:\n",
    "            \n",
    "            # add it to the list\n",
    "            primes.append(next_prime)\n",
    "            \n",
    "            # zero out anything that is a multiple of the prime we found.\n",
    "            for i in range(next_prime, N + 1, next_prime):\n",
    "                list_of_nums[i] = 0\n",
    "        \n",
    "    return primes\n",
    "\n",
    "sieve_of_erasothenes(20) # check agains the list above!"
   ]
  },
  {
   "cell_type": "markdown",
   "id": "e03e4e87-0adc-4e38-a453-85d366d91902",
   "metadata": {
    "id": "e03e4e87-0adc-4e38-a453-85d366d91902"
   },
   "source": [
    "That's all we're going to do about finding prime numbers. What can we do with them?\n",
    "\n",
    "First, there's prime factorization. We can write a number $k$ as $k = p_1^{q_1} \\times p_2^{q_2} \\times \\dots \\times p_n^{q_n}$, where all the $p_i$ are prime and all the $q_i$ are how many times that prime $p_i$ goes into $k$. For example, let's take $40$. $40 = 2 \\times 2 \\times 2 \\times 5 = 2^{3}5^{1}$ So in this case, $p_1 = 2, q_1 = 3, p_2 = 5, q_2 = 1$. Prime factorizations are a unique way of representing a number. Let's build it -- it will be useful for other reasons later.\n",
    "\n",
    "\n"
   ]
  },
  {
   "cell_type": "code",
   "execution_count": 11,
   "id": "624d3bcb-1d5c-4e8d-b7e8-da4f983ea404",
   "metadata": {
    "colab": {
     "base_uri": "https://localhost:8080/"
    },
    "id": "624d3bcb-1d5c-4e8d-b7e8-da4f983ea404",
    "outputId": "4ac7bbd6-b6fc-445f-de48-aaa7f8a4aa65"
   },
   "outputs": [
    {
     "name": "stdout",
     "output_type": "stream",
     "text": [
      "Factorization of 40: {2: 3, 5: 1}\n"
     ]
    }
   ],
   "source": [
    "def prime_factorization(n):\n",
    "\n",
    "  # we need a list of all primes up to n, let's use the sieve!\n",
    "\n",
    "    primes = sieve_of_erasothenes(n)\n",
    "\n",
    "    # we'll store the factorization in a Python dict.\n",
    "    # the _keys_ will be the prime numbers we need -- the p_i\n",
    "    # the _values_ will be the q_i associated with that p_i -- the multiples of that prime.\n",
    "    factorization = {}\n",
    "\n",
    "    for prime in primes:\n",
    "        while n % prime == 0: # while n is divisible by prime\n",
    "\n",
    "            # add it to dictionary if it's not already in\n",
    "            if prime not in factorization:\n",
    "                factorization[prime] = 0\n",
    "\n",
    "            # add to q_i\n",
    "            factorization[prime] += 1\n",
    "\n",
    "            # divide n by the prime -- we can move onto the next prime when the remaining\n",
    "            # n is no longer divisible by prime.\n",
    "            n = n // prime\n",
    "            \n",
    "    return factorization\n",
    "\n",
    "print('Factorization of 40:', prime_factorization(40))"
   ]
  },
  {
   "cell_type": "markdown",
   "id": "izJh-kFZQgP9",
   "metadata": {
    "id": "izJh-kFZQgP9"
   },
   "source": [
    "The Greatest Common Denominator is the biggest factor of two numbers $m$ and $n$. For example, $72$ and $48$ have a Greatest Common Denominator of $24$, because $24 \\times 3 = 72$ and $24 \\times 2 = 48$.\n",
    "\n",
    "I didn't prove that it's the greatest one (and I'm not going to prove that any of them are the greatest), but I can show how to find them.\n",
    "\n",
    "Find the prime factorizations of two numbers, take all the factors they have in common (including the counts of each factor!), and multiply those factors together.\n",
    "\n",
    "For example, try $72$ and $300$. $72$ has factorization $2^33^2$ and $300$ has factorization $2^235^2$. The common factors are:\n",
    "$2^2$ because $2^2$ exists in $300$ and $2^3$ exists in $72$, so we take the lesser of the two, and $3$ because $3^2$ exists in $72$ and $3$ exists in $300$. The Greatest Common Denominator is $2^23 = 12$."
   ]
  },
  {
   "cell_type": "code",
   "execution_count": 12,
   "id": "a47ffc65-daef-4768-bb03-5fcaf73b71a0",
   "metadata": {},
   "outputs": [],
   "source": [
    "def product(l):\n",
    "    p = 1\n",
    "    for obj in l:\n",
    "        p *= obj\n",
    "    return p\n",
    "\n",
    "def greatest_common_denominator(n, m):\n",
    "    \n",
    "    # Find both prime factorizations\n",
    "    nf = prime_factorization(n)\n",
    "    mf = prime_factorization(m)\n",
    "    \n",
    "    common_factors = []\n",
    "    \n",
    "    # Why do we only need to loop through one of the prime factorizations?\n",
    "    for factor in nf:\n",
    "        pi_n = nf[factor]\n",
    "        if factor in mf:\n",
    "            pi_m = mf[factor]\n",
    "            min_product = factor * min(pi_n, pi_m)\n",
    "            common_factors.append(min_product)\n",
    "            \n",
    "    return product(common_factors)"
   ]
  },
  {
   "cell_type": "code",
   "execution_count": 13,
   "id": "5527d03c-6396-4d17-bf5f-8923dc8dca33",
   "metadata": {},
   "outputs": [
    {
     "data": {
      "text/plain": [
       "12"
      ]
     },
     "execution_count": 13,
     "metadata": {},
     "output_type": "execute_result"
    }
   ],
   "source": [
    "greatest_common_denominator(72, 300)"
   ]
  },
  {
   "cell_type": "markdown",
   "id": "edfb0ee0-05cf-4a8a-855b-6ca59f49ba48",
   "metadata": {},
   "source": [
    "Finding the _Lowest Common Multiple_ (LCM) of two numbers is similar. The lowest common multiple of two numbers $m, n$ is some other number $p$ such that:\n",
    "\n",
    "$km = p$ and $jn = p$ for some numbers $k$ and $j$.\n",
    "\n",
    "More concretely, consider 12 and 8. $12 \\times 8 = 96$ is clearly _a_ multiple of both $12$ and $8$, but it's not the lowest, For example, $48 = 12 \\times 4 = 8 \\times 6$. So what's the lowest common multiple? We can use prime factorization to find that.\n",
    "\n",
    "$12 = 2^23$ and $8 = 2^3$."
   ]
  },
  {
   "cell_type": "code",
   "execution_count": null,
   "id": "d42c8032-9c5c-4c27-a85f-a8d5ff4bd455",
   "metadata": {},
   "outputs": [],
   "source": []
  }
 ],
 "metadata": {
  "colab": {
   "name": "primes.ipynb",
   "provenance": []
  },
  "kernelspec": {
   "display_name": "Python 3 (ipykernel)",
   "language": "python",
   "name": "python3"
  },
  "language_info": {
   "codemirror_mode": {
    "name": "ipython",
    "version": 3
   },
   "file_extension": ".py",
   "mimetype": "text/x-python",
   "name": "python",
   "nbconvert_exporter": "python",
   "pygments_lexer": "ipython3",
   "version": "3.8.3"
  }
 },
 "nbformat": 4,
 "nbformat_minor": 5
}
