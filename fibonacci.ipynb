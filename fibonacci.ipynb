{
 "cells": [
  {
   "cell_type": "markdown",
   "metadata": {
    "id": "nPdbZ4w7i_Aa"
   },
   "source": [
    "## Fibonacci, several ways\n",
    "First, we define the Fibonacci sequence.\n",
    "$x_0 = 1$, $x_1 = 1$, and for any $n > 1$, $x_n = x_{n - 1} + x_{n - 2}$.\n",
    "\n",
    "The first few values, then, are $1, 1, 2, 3, 5, 8, 13, 21 ...$\n",
    "\n",
    "They appear everywhere in nature! See this list for a few examples: https://science.howstuffworks.com/math-concepts/fibonacci-nature.htm\n",
    "\n",
    "There's a number of ways to calculate it."
   ]
  },
  {
   "cell_type": "code",
   "execution_count": 1,
   "metadata": {
    "id": "Pk3dMnF3jBC6"
   },
   "outputs": [],
   "source": [
    "def fibonacci_recursive(n):\n",
    "\n",
    "    # only defined for n > 0\n",
    "    assert(n >= 0)\n",
    "\n",
    "    # if we want x_0\n",
    "    if n == 0:\n",
    "        return 1\n",
    "\n",
    "    # if we want x_1\n",
    "    if n == 1:\n",
    "        return 1\n",
    "\n",
    "    # if we want any other x_n\n",
    "    return fibonacci_recursive(n - 1) + fibonacci_recursive(n - 2)"
   ]
  },
  {
   "cell_type": "code",
   "execution_count": 2,
   "metadata": {
    "colab": {
     "base_uri": "https://localhost:8080/"
    },
    "id": "oI4vlrHUjsh8",
    "outputId": "11194732-04b1-45c8-ad36-43f314e3509b"
   },
   "outputs": [
    {
     "name": "stdout",
     "output_type": "stream",
     "text": [
      "1\n",
      "1\n",
      "2\n",
      "3\n",
      "5\n",
      "8\n",
      "13\n",
      "21\n",
      "34\n",
      "55\n"
     ]
    }
   ],
   "source": [
    "for i in range(10):\n",
    "    print(fibonacci_recursive(i))"
   ]
  },
  {
   "cell_type": "markdown",
   "metadata": {
    "id": "Fij7RVYvj0j4"
   },
   "source": [
    "This is an interesting example, but for even moderately large n, it is quite slow. That's because it keeps computing the same values over and over again."
   ]
  },
  {
   "cell_type": "code",
   "execution_count": 3,
   "metadata": {
    "colab": {
     "base_uri": "https://localhost:8080/"
    },
    "id": "XSVitIhJjxGf",
    "outputId": "72d8ec3a-fbfb-4f69-e7e5-75a627c86148"
   },
   "outputs": [
    {
     "name": "stdout",
     "output_type": "stream",
     "text": [
      "Time elapsed (seconds):  42.334558963775635\n"
     ]
    }
   ],
   "source": [
    "import time\n",
    "begin = time.time()\n",
    "fibonacci_recursive(40)\n",
    "end = time.time()\n",
    "print('Time elapsed (seconds): ', end-begin)"
   ]
  },
  {
   "cell_type": "markdown",
   "metadata": {
    "id": "gETSBBt3kRJA"
   },
   "source": [
    "This takes a long time. How can we speed it up?\n",
    "One way is to store values we already used. This turns our \"recursive\" function above into something called \"dynamic programming\""
   ]
  },
  {
   "cell_type": "code",
   "execution_count": 4,
   "metadata": {
    "id": "Swi1E0Uyj9Rt"
   },
   "outputs": [],
   "source": [
    "def fibonacci_dynamic(n):\n",
    "    assert n >= 0\n",
    "    if n == 0:\n",
    "        return 0\n",
    "    if n == 1:\n",
    "        return 1\n",
    "    numbers = [0, 1]\n",
    "\n",
    "    while len(numbers) <= n:\n",
    "        # next number = last two numbers in the list\n",
    "        next_number = numbers[-1] + numbers[-2]\n",
    "\n",
    "        # add it to the list\n",
    "        numbers.append(next_number)\n",
    "\n",
    "    # return the last number in the list\n",
    "    return numbers[-1]"
   ]
  },
  {
   "cell_type": "code",
   "execution_count": 5,
   "metadata": {
    "colab": {
     "base_uri": "https://localhost:8080/"
    },
    "id": "g5ZJH1QilGxA",
    "outputId": "1b056299-e6c8-4ab4-dbf5-dbcec191e3bf"
   },
   "outputs": [
    {
     "name": "stdout",
     "output_type": "stream",
     "text": [
      "0\n",
      "1\n",
      "1\n",
      "2\n",
      "3\n",
      "5\n",
      "8\n",
      "13\n",
      "21\n",
      "34\n"
     ]
    }
   ],
   "source": [
    "for i in range(10):\n",
    "    print(fibonacci_dynamic(i))"
   ]
  },
  {
   "cell_type": "markdown",
   "metadata": {
    "id": "SY5KKZhJlOuO"
   },
   "source": [
    "How long does it take?"
   ]
  },
  {
   "cell_type": "code",
   "execution_count": 6,
   "metadata": {
    "colab": {
     "base_uri": "https://localhost:8080/"
    },
    "id": "Jaow-fGhlKSv",
    "outputId": "8e7e0d73-d632-4d73-e0ac-4a98a06207fe"
   },
   "outputs": [
    {
     "name": "stdout",
     "output_type": "stream",
     "text": [
      "Time elapsed (seconds):  8.702278137207031e-05\n"
     ]
    }
   ],
   "source": [
    "import time\n",
    "begin = time.time()\n",
    "fibonacci_dynamic(40)\n",
    "end = time.time()\n",
    "print('Time elapsed (seconds): ', end-begin)\n",
    "# almost immediate"
   ]
  },
  {
   "cell_type": "markdown",
   "metadata": {
    "id": "CaEjN8kJl3nO"
   },
   "source": [
    "## More advanced:\n",
    "\n",
    "We can even approximate it. To see how we get this approximation, first note something. Let's look at a list of Fibonacci numbers, and see how they grow\n",
    "\n",
    "\n"
   ]
  },
  {
   "cell_type": "code",
   "execution_count": 7,
   "metadata": {
    "colab": {
     "base_uri": "https://localhost:8080/"
    },
    "id": "ado8lItzmBX1",
    "outputId": "9bef7dc4-d88b-40c0-889e-45076356ef4d"
   },
   "outputs": [
    {
     "data": {
      "text/plain": [
       "[0, 1, 1, 2, 3, 5, 8, 13, 21, 34, 55, 89, 144, 233, 377, 610]"
      ]
     },
     "execution_count": 7,
     "metadata": {},
     "output_type": "execute_result"
    }
   ],
   "source": [
    "def fibonacci_dynamic_list(n):\n",
    "    numbers = [0, 1]    \n",
    "    while len(numbers) <= n:\n",
    "        next_number = numbers[-1] + numbers[-2]\n",
    "        numbers.append(next_number)\n",
    "    return numbers\n",
    "fibonacci_numbers = fibonacci_dynamic_list(15)\n",
    "fibonacci_numbers"
   ]
  },
  {
   "cell_type": "code",
   "execution_count": 8,
   "metadata": {
    "colab": {
     "base_uri": "https://localhost:8080/"
    },
    "id": "O9wZIqnOmMPt",
    "outputId": "99145e94-6461-4ebf-c01d-75d842220228"
   },
   "outputs": [
    {
     "data": {
      "text/plain": [
       "[1.0,\n",
       " 2.0,\n",
       " 1.5,\n",
       " 1.6666666666666667,\n",
       " 1.6,\n",
       " 1.625,\n",
       " 1.6153846153846154,\n",
       " 1.619047619047619,\n",
       " 1.6176470588235294,\n",
       " 1.6181818181818182,\n",
       " 1.6179775280898876,\n",
       " 1.6180555555555556,\n",
       " 1.6180257510729614]"
      ]
     },
     "execution_count": 8,
     "metadata": {},
     "output_type": "execute_result"
    }
   ],
   "source": [
    "# Check the ratio of one fibonacci number to the previous one:\n",
    "ratios = []\n",
    "for i in range(2, 15):\n",
    "    ratios.append(fibonacci_numbers[i]/fibonacci_numbers[i - 1])\n",
    "ratios"
   ]
  },
  {
   "cell_type": "markdown",
   "metadata": {
    "id": "RRBBu0k7mj6_"
   },
   "source": [
    "It converges to $\\phi$ (pronounced \"Fee\" in Greece) the Golden Ratio. This is seen many places in nature; see this list for example: https://gizmodo.com/15-uncanny-examples-of-the-golden-ratio-in-nature-5985588\n",
    "\n",
    "How can we show it actually converges? The math is more straightforward than one would expect, but it takes a little setup. Consider the following system of equations:\n",
    "$$x_{n - 1} + x_{n - 2} = x_n$$\n"
   ]
  },
  {
   "cell_type": "markdown",
   "metadata": {
    "id": "8z_3qyF-qtsQ"
   },
   "source": [
    "How can we show it actually converges? The math is more straightforward than one would expect, but it takes a little setup. Consider the following equation:\n",
    "\n",
    "$$x_{n - 1} + x_{n - 2} = x_n$$\n",
    "\n",
    "Suppose we think there is some number $\\lambda$ such that for every $n$, $x_{n} = \\lambda x_{n - 1}$. Then, also, $x_n = \\lambda^2 x_{n - 2}$. We can rewrite the above equation as\n",
    "\n",
    "$$\\lambda x_{n - 2} + x_{n - 2} = \\lambda^2 x_{n - 2}$$\n",
    "\n",
    "Or, getting rid of the cumbersome $x_{n - 2}$,\n",
    "\n",
    "$$\\lambda z + z = \\lambda^2 z$$\n",
    "\n",
    "Assuming $z > 0$ (which it is for all fibonacci numbers, besides the first), divide by $z$ to get\n",
    "\n",
    "$$\\lambda  + 1 = \\lambda^2$$\n",
    "\n",
    "or \n",
    "\n",
    "$$ \\lambda^2 - \\lambda - 1 = 0$$\n",
    "\n",
    "A standard quadratic equation. If we remember how to solve those..."
   ]
  },
  {
   "cell_type": "code",
   "execution_count": 9,
   "metadata": {
    "colab": {
     "base_uri": "https://localhost:8080/"
    },
    "id": "vwkPXFfJqQ9j",
    "outputId": "b256af56-e182-40fc-ef61-e836eef3bff6"
   },
   "outputs": [
    {
     "data": {
      "text/plain": [
       "(1.618033988749895, -0.6180339887498949)"
      ]
     },
     "execution_count": 9,
     "metadata": {},
     "output_type": "execute_result"
    }
   ],
   "source": [
    "def quadratic_solutions(a, b, c):\n",
    "    d = (b ** 2 - 4 * a * c) ** 0.5\n",
    "    r1 = (-b + d)/(2 * a)\n",
    "    r2 = (-b - d)/(2 * a)\n",
    "    return r1, r2\n",
    "\n",
    "quadratic_solutions(1, -1, -1)"
   ]
  },
  {
   "cell_type": "markdown",
   "metadata": {
    "id": "rypPemu2sm2H"
   },
   "source": [
    "The first number should look familiar... that's $\\phi$!\n",
    "The second one is important too.\n",
    "\n",
    "Note that if we actually solved that by hand, we would get the solutions as\n",
    "$$\\frac{1 \\pm \\sqrt{5}}{2}$$\n",
    "\n",
    "so $\\phi = \\frac{1 + \\sqrt{5}}{2}$.\n",
    "\n",
    "How can we actually use this? Any solution that works like the above needs to be a combination of the two solutions we have. And any combination of the two solutions works. Call the two solutions $\\lambda_+$ and $\\lambda_-$. \n",
    "\n",
    "So we don't have a perfect match for Fibonacci yet. If you just try to do what we have with phi, it doesn't match our numbers. We get:"
   ]
  },
  {
   "cell_type": "code",
   "execution_count": 10,
   "metadata": {
    "colab": {
     "base_uri": "https://localhost:8080/"
    },
    "id": "P-YZF_6hskJq",
    "outputId": "b4cdc0ba-ffd5-436e-fc76-08b791198fc4"
   },
   "outputs": [
    {
     "name": "stdout",
     "output_type": "stream",
     "text": [
      "1.0\n",
      "1.618033988749895\n",
      "2.618033988749895\n",
      "4.23606797749979\n",
      "6.854101966249686\n",
      "11.090169943749476\n",
      "17.944271909999163\n",
      "29.03444185374864\n",
      "46.978713763747805\n",
      "76.01315561749645\n"
     ]
    }
   ],
   "source": [
    "phi = (1 + 5 ** 0.5)/2\n",
    "for i in range(10):\n",
    "    print(phi ** i)"
   ]
  },
  {
   "cell_type": "markdown",
   "metadata": {
    "id": "X5fZtDzZyF2e"
   },
   "source": [
    "Which is not correct. But consider the following trick:\n",
    "Let's define a few new sequences:\n",
    "$$y_{n} = y_{n - 1} + y_{n - 2}$$\n",
    "$$z_{n} = z_{n - 1} + z_{n - 2}$$\n",
    "$$w_{n} = y_{n} + z_{n}$$\n",
    "\n",
    "So far $y$ and $z$ looks like fibonacci. What about $w$?\n",
    "\n",
    "$$w_{n} = y_{n} + z_{n}$$\n",
    "$$= y_{n - 1} + y_{n - 2} + z_{n - 1} + z_{n - 2}$$\n",
    "$$ = (y_{n - 1} + z_{n - 1}) + (y_{n - 2} + z_{n - 2})$$\n",
    "$$ w_{n} = w_{n - 1} + w_{n - 2}$$\n",
    " \n",
    "Which has the same properties. Great! $y$ and $z$ are independent, but we still get this property! What that allows us to do is use the values we had above, and try to recover our Fibonacci sequnce. In particular, let's let\n",
    "\n",
    "$$y_{n} = \\lambda_+ y_{n - 1}$$\n",
    "$$z_{n} = \\lambda_- z_{n - 1}$$\n",
    "\n",
    "and try to find $y_0, z_0$ so that we get Fibonacci back. \n",
    "\n",
    "Note that those imply $$y_n = \\lambda_+^n y_0$$ (and similarly for $z_n$)\n",
    "\n",
    "In particular, we can recover the Fibonacci sequence by solving for its first two values.\n",
    "\n",
    "$$y_0 + z_0 = 0$$\n",
    "$$\\lambda_+ y_0 + \\lambda_- z_0 = 1$$\n",
    "\n",
    "Then, $$y_0 = -z_0$$.\n",
    "\n",
    "$$y_0 \\frac{1 + \\sqrt{5}}{2} - y_0\\frac{1 - \\sqrt{5}}{2} = 1$$\n",
    "$$y_0\\sqrt{5} = 1$$\n",
    "$$y_0 = \\frac{1}{\\sqrt{5}}, z_0 =  \\frac{-1}{\\sqrt{5}}$$\n",
    "\n",
    "And finally, this means that the nth Fibonacci number is given by:\n",
    "\n",
    "$$x_n = \\frac{1}{\\sqrt{5}}\\Big(\\frac{1 + \\sqrt{5}}{2}\\Big)^n - \\frac{1}{\\sqrt{5}}\\Big(\\frac{1 - \\sqrt{5}}{2}\\Big)^n$$\n",
    "\n",
    "Note that the second term gets small because $(\\frac{1 - \\sqrt{5}}{2})$ is between -1 and 1, so it shrinks to zero as we raise the exponent. That's why the ratio of the Fibonacci numbers approaches $\\phi$!!"
   ]
  },
  {
   "cell_type": "code",
   "execution_count": 11,
   "metadata": {
    "colab": {
     "base_uri": "https://localhost:8080/"
    },
    "id": "N74SMIBtt_ew",
    "outputId": "ae688144-cde9-479f-ffa7-c06f5bcac78e"
   },
   "outputs": [
    {
     "name": "stdout",
     "output_type": "stream",
     "text": [
      "0.0\n",
      "1.0\n",
      "0.9999999999999999\n",
      "2.0\n",
      "3.0000000000000004\n",
      "5.000000000000001\n",
      "8.000000000000002\n",
      "13.000000000000004\n",
      "21.000000000000004\n",
      "34.000000000000014\n"
     ]
    }
   ],
   "source": [
    "import math\n",
    "def fibonacci_closed_form(n):\n",
    "    # Answer appears slightly off due to computers having to round numbers.\n",
    "    s = math.sqrt(5)\n",
    "    r1 = (1 + s)/2\n",
    "    r2 = (1 - s)/2\n",
    "    return (1/s) * r1 ** n - (1/s) * r2 ** n\n",
    "for i in range(10):\n",
    "    print(fibonacci_closed_form(i))"
   ]
  },
  {
   "cell_type": "markdown",
   "metadata": {
    "id": "31gBlkKf_T6l"
   },
   "source": [
    "## Even more advanced:\n",
    "How else can we get these?\n",
    "\n",
    "Let's return to the equation we had before:\n",
    "\n",
    "$$x_{n - 1} + x_{n - 2} = x_n$$\n",
    "\n",
    "\n",
    "If we add another equation, it becomes clear that we can set this up as a system of linear equations.\n",
    "\n",
    "$$x_{n - 1} + x_{n - 2} = x_n$$\n",
    "$$x_{n - 1}  = x_{n - 1}$$\n",
    "\n",
    "Putting this in matrix-vector notation:\n",
    "\n",
    "$$ \\begin{bmatrix} 1 & 1 \\\\ 1 & 0 \\end{bmatrix} \\begin{bmatrix} x_{n - 1} \\\\ x_{n - 2} \\end{bmatrix} = \\begin{bmatrix} x_n \\\\ x_{n - 1} \\end{bmatrix}$$\n",
    "\n",
    "Or, rewriting with the notation $v_n =  \\begin{bmatrix} x_n \\\\ x_{n - 1} \\end{bmatrix}$ and $A = \\begin{bmatrix} 1 & 1 \\\\ 1 & 0 \\end{bmatrix}$\n",
    "\n",
    "$$Av_n = v_{n + 1}$$\n"
   ]
  },
  {
   "cell_type": "code",
   "execution_count": null,
   "metadata": {
    "colab": {
     "base_uri": "https://localhost:8080/"
    },
    "id": "6KgGWofJ_VCi",
    "outputId": "e405c4ea-a616-44ae-d524-8dd881ca7c9a"
   },
   "outputs": [],
   "source": [
    "import numpy as np\n",
    "A = np.array([\n",
    "    [1, 1],\n",
    "    [1, 0]\n",
    "])\n",
    "v = np.array([1, 0])\n",
    "A @ v"
   ]
  },
  {
   "cell_type": "code",
   "execution_count": null,
   "metadata": {
    "colab": {
     "base_uri": "https://localhost:8080/"
    },
    "id": "bE58rO67_iQN",
    "outputId": "3db6d252-5bda-417c-b967-9056e043adc6"
   },
   "outputs": [],
   "source": [
    "A @ A @ v"
   ]
  },
  {
   "cell_type": "code",
   "execution_count": null,
   "metadata": {
    "colab": {
     "base_uri": "https://localhost:8080/"
    },
    "id": "wK5UiS63_kSd",
    "outputId": "465673fb-35e7-49b5-c2fc-110533d5b95d"
   },
   "outputs": [],
   "source": [
    "A @ A @ A @ v"
   ]
  },
  {
   "cell_type": "code",
   "execution_count": 15,
   "metadata": {
    "colab": {
     "base_uri": "https://localhost:8080/"
    },
    "id": "UIQrMBzI_lj3",
    "outputId": "fd3a8f70-c6df-4ebb-99d4-227e91bff2e7"
   },
   "outputs": [
    {
     "data": {
      "text/plain": [
       "array([5, 3])"
      ]
     },
     "execution_count": 15,
     "metadata": {},
     "output_type": "execute_result"
    }
   ],
   "source": [
    "A @ A @ A @ A @ v"
   ]
  },
  {
   "cell_type": "markdown",
   "metadata": {
    "id": "wdr90x-s_tK5"
   },
   "source": [
    "An Eigenvector of a matrix is a vector such that $Av = \\lambda v$ -- in other words, it becomes just a multiple of the previous vector. That multiple $\\lambda$ is known as an eigenvaule. When a matrix has eigenvalues and eigenvectors, we can easily see what happens when we multiply that vector with that matrix many times.\n",
    "$A(Av) = \\lambda^2v, A(A(Av))= \\lambda^3v$, etc.\n",
    "\n",
    "$A$ is symmetric and invertible, and so it has two non-zero eigenvalues. (This fact is not obvious; the proof itself is simple but to understand the setup you need a few years of university-level mathematics.) Any guesses what they are?"
   ]
  },
  {
   "cell_type": "code",
   "execution_count": 16,
   "metadata": {
    "colab": {
     "base_uri": "https://localhost:8080/"
    },
    "id": "-1dF1Ym6_n4S",
    "outputId": "0cb3cc2b-b923-4280-bdac-0511521e3b65"
   },
   "outputs": [
    {
     "name": "stdout",
     "output_type": "stream",
     "text": [
      "Eigenvalues: [ 1.61803399 -0.61803399]\n"
     ]
    }
   ],
   "source": [
    "eigenvalues, eigenvectors = np.linalg.eig(A)\n",
    "print('Eigenvalues:', eigenvalues)"
   ]
  },
  {
   "cell_type": "markdown",
   "metadata": {
    "id": "n99aHCelA982"
   },
   "source": [
    "$A$ also has two eigenvectors (one for each eigenvalue.) We can write any vector as a combination of these vectors; specifically, we can write the vector $v_1 = \\begin{bmatrix} 1 \\\\  0 \\end{bmatrix}$ as them. (Let's let the computer do this. It's doable by hand but annoying, especially to type up.)"
   ]
  },
  {
   "cell_type": "code",
   "execution_count": 17,
   "metadata": {
    "colab": {
     "base_uri": "https://localhost:8080/"
    },
    "id": "PswAckk7_1ip",
    "outputId": "1cf914c1-70ca-4f4e-ac47-2cc0eb8f5fff"
   },
   "outputs": [
    {
     "name": "stdout",
     "output_type": "stream",
     "text": [
      "vector 1: [0.85065081 0.52573111]\n",
      "vector 2: [-0.52573111  0.85065081]\n"
     ]
    }
   ],
   "source": [
    "#sanity check on the eigenvector thing:\n",
    "vector_1 = eigenvectors[:, 0]\n",
    "vector_2 = eigenvectors[:, 1]\n",
    "lambda_1, lambda_2 = eigenvalues\n",
    "\n",
    "print('vector 1:', vector_1)\n",
    "print('vector 2:', vector_2)"
   ]
  },
  {
   "cell_type": "code",
   "execution_count": 18,
   "metadata": {
    "colab": {
     "base_uri": "https://localhost:8080/"
    },
    "id": "qxfok5QpBT5H",
    "outputId": "ce7ad380-cb3e-4629-82a0-82808393705f"
   },
   "outputs": [
    {
     "data": {
      "text/plain": [
       "array([1.37638192, 0.85065081])"
      ]
     },
     "execution_count": 18,
     "metadata": {},
     "output_type": "execute_result"
    }
   ],
   "source": [
    "#sanity check on the eigenvector thing:\n",
    "A @ vector_1"
   ]
  },
  {
   "cell_type": "code",
   "execution_count": 19,
   "metadata": {
    "colab": {
     "base_uri": "https://localhost:8080/"
    },
    "id": "0ob3Hzc7BrPi",
    "outputId": "8962949b-9d72-4927-9b36-5685cbedde3d"
   },
   "outputs": [
    {
     "data": {
      "text/plain": [
       "array([1.37638192, 0.85065081])"
      ]
     },
     "execution_count": 19,
     "metadata": {},
     "output_type": "execute_result"
    }
   ],
   "source": [
    "# Check that this is the same as above!\n",
    "lambda_1 * vector_1"
   ]
  },
  {
   "cell_type": "code",
   "execution_count": 20,
   "metadata": {
    "id": "MdQm5enzBxUl"
   },
   "outputs": [],
   "source": [
    "# Solve the initial vector\n",
    "b = np.array([1, 0])\n",
    "c1, c2 = np.linalg.inv(eigenvectors) @ b"
   ]
  },
  {
   "cell_type": "code",
   "execution_count": 21,
   "metadata": {
    "colab": {
     "base_uri": "https://localhost:8080/"
    },
    "id": "6wWjs4XXB7na",
    "outputId": "0d271c36-e202-4b26-81ea-7d104c28282b"
   },
   "outputs": [
    {
     "data": {
      "text/plain": [
       "array([1., 0.])"
      ]
     },
     "execution_count": 21,
     "metadata": {},
     "output_type": "execute_result"
    }
   ],
   "source": [
    "c1 * vector_1 + c2 * vector_2"
   ]
  },
  {
   "cell_type": "markdown",
   "metadata": {
    "id": "oAAlq63dCXI-"
   },
   "source": [
    "What did we get? We got the initial condition as a combination of the eigenvectors. Let's call this $v_1 = c_1x_1 + c_2x_2$ The value of that is this:\n",
    "\n",
    "$$v_n = A^nv_1 = A^n(c_1x_1 + c_2x_2)$$\n",
    "$$ = A^n(c_1x_1) + A^n(c_2x_2)$$\n",
    "$$ = c_1\\lambda_1^nx_1 + c_2\\lambda_2^nx_2$$\n",
    "\n",
    "where $\\lambda_1 \\approx 1.618$ and $\\lambda_2 \\approx -0.618$\n",
    "\n",
    "And note that as $n$ gets large, $\\lambda_1^n$ gets large and $\\lambda_2^n$ gets small. This is another argument showing that the ratio of subsequent fibonacci numbers converges to $\\phi$\n"
   ]
  },
  {
   "cell_type": "code",
   "execution_count": null,
   "metadata": {
    "id": "JlEr9ZukCGUI"
   },
   "outputs": [],
   "source": []
  }
 ],
 "metadata": {
  "colab": {
   "name": "fibonacci.ipynb",
   "provenance": []
  },
  "kernelspec": {
   "display_name": "Python 3 (ipykernel)",
   "language": "python",
   "name": "python3"
  },
  "language_info": {
   "codemirror_mode": {
    "name": "ipython",
    "version": 3
   },
   "file_extension": ".py",
   "mimetype": "text/x-python",
   "name": "python",
   "nbconvert_exporter": "python",
   "pygments_lexer": "ipython3",
   "version": "3.8.3"
  }
 },
 "nbformat": 4,
 "nbformat_minor": 4
}
