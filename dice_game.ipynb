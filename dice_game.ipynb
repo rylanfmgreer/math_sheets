{
 "cells": [
  {
   "cell_type": "markdown",
   "metadata": {
    "id": "C6Kva62C5uik"
   },
   "source": [
    "## Dice game question\n",
    "\n",
    "Question: \"Let's play a game. You can roll a dice three times. At every roll before the end, you can choose to stop and take the face value (in dollars) or roll again. How much should you be willing to pay to play this game?\"\n",
    "\n",
    "Solution:\n",
    "\n",
    "Imagine you're at roll 3. Every outcome is equally likely. In general, we should be willing to pay the \"average payoff\" of the game."
   ]
  },
  {
   "cell_type": "code",
   "execution_count": 1,
   "metadata": {
    "colab": {
     "base_uri": "https://localhost:8080/"
    },
    "id": "5AGHVcMQ5woG",
    "outputId": "16c55f0d-6d49-4050-9317-08302cc887f0"
   },
   "outputs": [
    {
     "data": {
      "text/plain": [
       "3.5"
      ]
     },
     "execution_count": 1,
     "metadata": {},
     "output_type": "execute_result"
    }
   ],
   "source": [
    "expected_payoffs_roll3 = [1, 2, 3, 4, 5, 6]\n",
    "\n",
    "# very quick average function that we need! This can be interpreted as \"expected value\"\n",
    "def average(l):\n",
    "    return sum(l)/len(l)\n",
    "\n",
    "average(expected_payoffs_roll3)"
   ]
  },
  {
   "cell_type": "markdown",
   "metadata": {
    "id": "8-7k1LOr6DRQ"
   },
   "source": [
    "The average of all the payoffs is 3.5\n",
    "\n",
    "Now imagine you're at roll 2. You can have the same outcomes. 1, 2, 3, 4, 5, 6. However, suppose you roll a 1 (or 2, or 3.) . You know on average you can get 3.5 on the next roll, so you'll  roll again. Conversely, if you roll a 4, 5, or 6, you'll stop -- your expected value from continuing to roll is lower than what you have now."
   ]
  },
  {
   "cell_type": "code",
   "execution_count": 2,
   "metadata": {
    "colab": {
     "base_uri": "https://localhost:8080/"
    },
    "id": "Fg32Y6uv6YIh",
    "outputId": "94c5539e-be53-4156-bc11-91d7ebf444ab"
   },
   "outputs": [
    {
     "data": {
      "text/plain": [
       "[3.5, 3.5, 3.5, 4, 5, 6]"
      ]
     },
     "execution_count": 2,
     "metadata": {},
     "output_type": "execute_result"
    }
   ],
   "source": [
    "# Programming this in with a list comprehension, which is a piece of Python syntax.\n",
    "avg_roll3 = average(expected_payoffs_roll3)\n",
    "expected_payoffs_roll2 = [max(avg_roll3, payoff) for payoff in expected_payoffs_roll3]\n",
    "expected_payoffs_roll2"
   ]
  },
  {
   "cell_type": "markdown",
   "metadata": {
    "id": "4jUVnFaG6kbV"
   },
   "source": [
    "The above is after roll 2, but the same logic applies after roll 1. The average of the outcomes after roll 2 is:"
   ]
  },
  {
   "cell_type": "code",
   "execution_count": 3,
   "metadata": {
    "colab": {
     "base_uri": "https://localhost:8080/"
    },
    "id": "tjLmIMqt6iC9",
    "outputId": "2514b885-a466-44f9-f1d3-f95828515f51"
   },
   "outputs": [
    {
     "data": {
      "text/plain": [
       "4.25"
      ]
     },
     "execution_count": 3,
     "metadata": {},
     "output_type": "execute_result"
    }
   ],
   "source": [
    "avg_roll2 = average(expected_payoffs_roll2)\n",
    "avg_roll2"
   ]
  },
  {
   "cell_type": "markdown",
   "metadata": {
    "id": "7dKJx-Jm6uY0"
   },
   "source": [
    "And we can roll it back with the same logic."
   ]
  },
  {
   "cell_type": "code",
   "execution_count": 4,
   "metadata": {
    "colab": {
     "base_uri": "https://localhost:8080/"
    },
    "id": "3cADytGv6sJl",
    "outputId": "3a792a46-a57f-408c-d918-c26fca0061b0"
   },
   "outputs": [
    {
     "data": {
      "text/plain": [
       "[4.25, 4.25, 4.25, 4.25, 5, 6]"
      ]
     },
     "execution_count": 4,
     "metadata": {},
     "output_type": "execute_result"
    }
   ],
   "source": [
    "expected_payoffs_roll1 = [max(avg_roll2, payoff) for payoff in expected_payoffs_roll2]\n",
    "expected_payoffs_roll1"
   ]
  },
  {
   "cell_type": "markdown",
   "metadata": {
    "id": "eSx9k8wg7gnM"
   },
   "source": [
    "And so we should be willing to pay the average of these."
   ]
  },
  {
   "cell_type": "code",
   "execution_count": 5,
   "metadata": {
    "colab": {
     "base_uri": "https://localhost:8080/"
    },
    "id": "3z11MvbM7fjv",
    "outputId": "018b7623-c74a-459b-ba29-532eeb384318"
   },
   "outputs": [
    {
     "data": {
      "text/plain": [
       "4.666666666666667"
      ]
     },
     "execution_count": 5,
     "metadata": {},
     "output_type": "execute_result"
    }
   ],
   "source": [
    "avg_roll1 = average(expected_payoffs_roll1)\n",
    "avg_roll1"
   ]
  },
  {
   "cell_type": "markdown",
   "metadata": {
    "id": "ffB2FyqR7nW-"
   },
   "source": [
    "This is the answer for the question *as given*. If we can roll the dice three times, then we should be willing to pay $4\\frac{2}{3}$ to play this game.\n",
    "\n",
    "\n",
    "There's nothing special about the number 3. We can \"roll this back\" as many times as we want. The answer will alwyas be between 3.5 and 6 no matter how big $n_{\\text{rolls}}$ gets"
   ]
  },
  {
   "cell_type": "code",
   "execution_count": 6,
   "metadata": {
    "colab": {
     "base_uri": "https://localhost:8080/"
    },
    "id": "baVTjLAi624J",
    "outputId": "6ee54b53-ef88-49a3-a8e0-767181cd0690"
   },
   "outputs": [
    {
     "data": {
      "text/plain": [
       "5.999999999605254"
      ]
     },
     "execution_count": 6,
     "metadata": {},
     "output_type": "execute_result"
    }
   ],
   "source": [
    "n_rolls = 123\n",
    "# n_rolls > 0\n",
    "\n",
    "outcomes = [1, 2, 3, 4, 5, 6]\n",
    "for i in range(n_rolls - 1):\n",
    "    outcomes = [max(average(outcomes), outcome) for outcome in outcomes]\n",
    "average(outcomes)"
   ]
  },
  {
   "cell_type": "code",
   "execution_count": 7,
   "metadata": {
    "id": "tW1vmEY7-kjZ"
   },
   "outputs": [],
   "source": [
    "# Graph of prices:\n",
    "prices = []\n",
    "count = []\n",
    "outcomes = [1, 2, 3, 4, 5, 6]\n",
    "\n",
    "for n_rolls in range(1, 101):\n",
    "    prices.append(average(outcomes))\n",
    "    count.append(n_rolls)\n",
    "    outcomes = [max(average(outcomes), outcome) for outcome in outcomes]\n"
   ]
  },
  {
   "cell_type": "code",
   "execution_count": 8,
   "metadata": {
    "colab": {
     "base_uri": "https://localhost:8080/",
     "height": 566
    },
    "id": "bBR5XzVaCCt6",
    "outputId": "b34411cc-2a6d-4b4c-cca7-09ee15edd693"
   },
   "outputs": [
    {
     "data": {
      "image/png": "[encoded data removed]",
      "text/plain": [
       "<Figure size 1152x648 with 1 Axes>"
      ]
     },
     "metadata": {
      "needs_background": "light"
     },
     "output_type": "display_data"
    }
   ],
   "source": [
    "#graphing packages\n",
    "import matplotlib.pyplot as plt\n",
    "import seaborn as sns \n",
    "fig, axs = plt.subplots(1, figsize=(16, 9))\n",
    "sns.lineplot(x=count, y=prices)\n",
    "axs.set(xlabel='Max number of rolls', ylabel='Price', title='Price vs number of rolls in game')\n",
    "None # adding \"None\" at the end suppresses some output we don't want to see"
   ]
  },
  {
   "cell_type": "code",
   "execution_count": null,
   "metadata": {
    "id": "ZClfDGRaCI0f"
   },
   "outputs": [],
   "source": []
  }
 ],
 "metadata": {
  "colab": {
   "name": "dice game.ipynb",
   "provenance": []
  },
  "kernelspec": {
   "display_name": "Python 3 (ipykernel)",
   "language": "python",
   "name": "python3"
  },
  "language_info": {
   "codemirror_mode": {
    "name": "ipython",
    "version": 3
   },
   "file_extension": ".py",
   "mimetype": "text/x-python",
   "name": "python",
   "nbconvert_exporter": "python",
   "pygments_lexer": "ipython3",
   "version": "3.8.3"
  }
 },
 "nbformat": 4,
 "nbformat_minor": 4
}
